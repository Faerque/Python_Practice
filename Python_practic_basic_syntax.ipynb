{
 "cells": [
  {
   "cell_type": "markdown",
   "id": "3baf89c8-c444-43fa-9820-1a5703745d9c",
   "metadata": {},
   "source": [
    "Hello, World!\n",
    "Problem: Write a Python program that prints \"Hello, World!\" to the console.\n",
    "Hint: Use the print() function."
   ]
  },
  {
   "cell_type": "code",
   "execution_count": null,
   "id": "f77c390b-cd3c-40b1-bcb8-ee5416b5e4f4",
   "metadata": {},
   "outputs": [],
   "source": []
  },
  {
   "cell_type": "markdown",
   "id": "0d13cf60-1b3c-47dd-aa6e-425cfe72f2cf",
   "metadata": {},
   "source": [
    "Integer Variable Declaration\n",
    "Problem: Declare an integer variable x with the value 10 and print it.\n",
    "Hint: Assign a value to x (e.g., x = 10) and use print(x)."
   ]
  },
  {
   "cell_type": "code",
   "execution_count": null,
   "id": "18eb16e5-5a5a-41d2-b659-dcfe85e9ea11",
   "metadata": {},
   "outputs": [],
   "source": []
  },
  {
   "cell_type": "markdown",
   "id": "dddfb3a0-de85-4be8-9558-c17e35df216e",
   "metadata": {},
   "source": [
    "Float Variable Declaration\n",
    "Problem: Declare a float variable y with the value 3.14 and print it.\n",
    "Hint: Use a decimal number (e.g., y = 3.14) and print it."
   ]
  },
  {
   "cell_type": "code",
   "execution_count": null,
   "id": "81761556-8f4c-40e4-b383-2a63b3f618a2",
   "metadata": {},
   "outputs": [],
   "source": []
  },
  {
   "cell_type": "markdown",
   "id": "e788bb77-abdf-4eb1-80e7-c36e36a3b03b",
   "metadata": {},
   "source": [
    "Boolean Variable Declaration\n",
    "Problem: Declare a boolean variable flag set to True and print its value.\n",
    "Hint: Boolean values in Python are True and False."
   ]
  },
  {
   "cell_type": "code",
   "execution_count": null,
   "id": "958e8725-2c5e-4181-8c5a-6a8d481a163d",
   "metadata": {},
   "outputs": [],
   "source": []
  },
  {
   "cell_type": "markdown",
   "id": "6ad3eee3-e895-4363-bf57-8f223cbbb888",
   "metadata": {},
   "source": [
    "String Variable Declaration\n",
    "Problem: Declare a string variable name with your name and print it.\n",
    "Hint: Enclose your name in quotes (e.g., name = \"Alice\")"
   ]
  },
  {
   "cell_type": "code",
   "execution_count": null,
   "id": "7862090e-8d3f-4fec-b482-3d310535c285",
   "metadata": {},
   "outputs": [],
   "source": []
  },
  {
   "cell_type": "markdown",
   "id": "1b92a420-92e5-4c97-88df-5c8dcb8d6105",
   "metadata": {},
   "source": [
    "List Variable Declaration\n",
    "Problem: Declare a list colors containing the elements \"red\", \"green\", and \"blue\", then print it.\n",
    "Hint: Use square brackets (e.g., colors = [\"red\", \"green\", \"blue\"])."
   ]
  },
  {
   "cell_type": "code",
   "execution_count": null,
   "id": "6bf01a00",
   "metadata": {},
   "outputs": [],
   "source": []
  },
  {
   "cell_type": "markdown",
   "metadata": {},
   "source": [
    "Basic Arithmetic Operations\n",
    "Problem: Write a program that computes and prints the sum, difference, product, and quotient of two numbers (e.g., 15 and 3).\n",
    "Hint: Use the operators +, -, *, and /."
   ]
  },
  {
   "cell_type": "code",
   "execution_count": null,
   "id": "b4abeb17",
   "metadata": {},
   "outputs": [],
   "source": []
  },
  {
   "cell_type": "markdown",
   "id": "7ff5cb79",
   "metadata": {},
   "source": [
    "Operator Precedence\n",
    "Problem: Evaluate and print the result of the expression 2 + 3 * 4 and explain why the output is that value.\n",
    "Hint: Remember that multiplication has a higher precedence than addition."
   ]
  },
  {
   "cell_type": "code",
   "execution_count": null,
   "id": "249ba8d4",
   "metadata": {},
   "outputs": [],
   "source": []
  },
  {
   "cell_type": "markdown",
   "id": "51a81a5d",
   "metadata": {},
   "source": [
    "Using Comments\n",
    "Problem: Write a program that prints \"Hello, Python!\" and includes a single-line comment explaining what the code does.\n",
    "Hint: Begin your comment with the # symbol."
   ]
  },
  {
   "cell_type": "code",
   "execution_count": null,
   "id": "e0dddedd",
   "metadata": {},
   "outputs": [],
   "source": []
  },
  {
   "cell_type": "markdown",
   "id": "f19c18f5",
   "metadata": {},
   "source": [
    "Importing Modules\n",
    "Problem: Import the math module and use it to print the square root of 16.\n",
    "Hint: Use import math and then call math.sqrt(16)."
   ]
  },
  {
   "cell_type": "code",
   "execution_count": null,
   "id": "ccd61dc9",
   "metadata": {},
   "outputs": [],
   "source": []
  },
  {
   "cell_type": "markdown",
   "id": "03ebd904",
   "metadata": {},
   "source": [
    "Simple Function Definition\n",
    "Problem: Define a function add(a, b) that returns the sum of a and b, then call it with the numbers 5 and 7.\n",
    "Hint: Use the def keyword and the return statement."
   ]
  },
  {
   "cell_type": "code",
   "execution_count": null,
   "id": "ebd72c4b",
   "metadata": {},
   "outputs": [],
   "source": []
  },
  {
   "cell_type": "markdown",
   "id": "c418d767",
   "metadata": {},
   "source": [
    "Function Flow of Execution\n",
    "Problem: Write a function greet() that prints \"Hello from the function!\" and then call it.\n",
    "Hint: Define the function and then invoke it by its name with parentheses."
   ]
  },
  {
   "cell_type": "code",
   "execution_count": null,
   "id": "acfc5234",
   "metadata": {},
   "outputs": [],
   "source": []
  },
  {
   "cell_type": "markdown",
   "id": "5aef244e",
   "metadata": {},
   "source": [
    "Function with Parameters\n",
    "Problem: Create a function multiply(x, y) that returns the product of two numbers. Test it with values 4 and 6.\n",
    "Hint: Pass parameters into the function and use multiplication inside the function."
   ]
  },
  {
   "cell_type": "code",
   "execution_count": null,
   "id": "44c23be3",
   "metadata": {},
   "outputs": [],
   "source": []
  },
  {
   "cell_type": "markdown",
   "id": "7b80e224",
   "metadata": {},
   "source": [
    "Finding the Maximum in a List\n",
    "Problem: Write a function find_max(lst) that returns the largest number in a list of integers.\n",
    "Hint: Iterate over the list comparing elements, or consider using Python’s built-in max()."
   ]
  },
  {
   "cell_type": "code",
   "execution_count": null,
   "id": "09405cfa",
   "metadata": {},
   "outputs": [],
   "source": []
  },
  {
   "cell_type": "markdown",
   "id": "d76afc9f",
   "metadata": {},
   "source": [
    "Simple If Statement\n",
    "Problem: Write a program that checks if a number (e.g., 10) is positive using an if statement and prints \"Positive\" if it is.\n",
    "Hint: Use an if statement with a condition like if num > 0:."
   ]
  },
  {
   "cell_type": "code",
   "execution_count": null,
   "id": "eb05624a",
   "metadata": {},
   "outputs": [],
   "source": []
  },
  {
   "cell_type": "markdown",
   "id": "e80cc5b9",
   "metadata": {},
   "source": [
    "If-Else Statement for Even/Odd Check\n",
    "Problem: Write a program that checks if a number is even or odd using an if-else statement and prints \"Even\" or \"Odd\".\n",
    "Hint: Use the modulo operator % to check if the number is divisible by 2."
   ]
  },
  {
   "cell_type": "code",
   "execution_count": null,
   "id": "f2f35867",
   "metadata": {},
   "outputs": [],
   "source": []
  },
  {
   "cell_type": "markdown",
   "id": "13df053f",
   "metadata": {},
   "source": [
    "Chained Conditional (if-elif-else)\n",
    "Problem: Write a program that checks whether a number is positive, negative, or zero using if-elif-else."
   ]
  },
  {
   "cell_type": "code",
   "execution_count": null,
   "id": "ab256dca",
   "metadata": {},
   "outputs": [],
   "source": []
  },
  {
   "cell_type": "markdown",
   "id": "e625de82",
   "metadata": {},
   "source": [
    "While Loop Basics\n",
    "Problem: Use a while loop to print the numbers from 1 to 10.\n",
    "Hint: Initialize a counter variable and increment it inside the loop."
   ]
  },
  {
   "cell_type": "code",
   "execution_count": null,
   "id": "5affa3aa",
   "metadata": {},
   "outputs": [],
   "source": []
  },
  {
   "cell_type": "markdown",
   "id": "d3934e84",
   "metadata": {},
   "source": [
    "For Loop Over a List\n",
    "Problem: Create a list of integers [1, 2, 3, 4, 5] and use a for loop to print each element.\n",
    "Hint: Use a for loop directly on the list."
   ]
  },
  {
   "cell_type": "code",
   "execution_count": null,
   "id": "7ee7717d",
   "metadata": {},
   "outputs": [],
   "source": []
  },
  {
   "cell_type": "markdown",
   "id": "c718eeee",
   "metadata": {},
   "source": [
    "While Loop with Continue Statement\n",
    "Problem: Use a while loop to print numbers from 1 to 10, skipping even numbers using continue.\n",
    "Hint: Check if the number is even and use continue to skip printing it."
   ]
  },
  {
   "cell_type": "code",
   "execution_count": null,
   "id": "f9202220",
   "metadata": {},
   "outputs": [],
   "source": []
  },
  {
   "cell_type": "markdown",
   "id": "fd1a23ef",
   "metadata": {},
   "source": [
    "Factorial Function Using For Loop\n",
    "Problem: Write a function factorial(n) that calculates the factorial of n using a for loop.\n",
    "Hint: Multiply numbers from 1 up to n in a loop and return the product."
   ]
  },
  {
   "cell_type": "code",
   "execution_count": null,
   "id": "7aff6195",
   "metadata": {},
   "outputs": [],
   "source": []
  },
  {
   "cell_type": "markdown",
   "id": "20cd37f8",
   "metadata": {},
   "source": [
    "Summing Elements in a List\n",
    "Problem: Write a program that calculates the sum of all numbers in a list [5, 10, 15, 20] using a for loop.\n",
    "Hint: Initialize a sum variable to 0 and add each element during the loop."
   ]
  },
  {
   "cell_type": "code",
   "execution_count": null,
   "id": "eee45106",
   "metadata": {},
   "outputs": [],
   "source": []
  },
  {
   "cell_type": "markdown",
   "id": "ce05e3a7",
   "metadata": {},
   "source": [
    "Multiplication Table\n",
    "Problem: Write a program that prints the multiplication table of a given number (e.g., 7) using a for loop.\n",
    "Hint: Loop through a range (for example, 1 to 10) and multiply each value by the given number."
   ]
  },
  {
   "cell_type": "code",
   "execution_count": null,
   "id": "49e8a3c5",
   "metadata": {},
   "outputs": [],
   "source": []
  },
  {
   "cell_type": "markdown",
   "id": "06852563",
   "metadata": {},
   "source": [
    "String Reversal\n",
    "Problem: Write a program that asks the user for a string input and prints the reversed string.\n",
    "Hint: Use slicing with the syntax string[::-1] to reverse the string."
   ]
  },
  {
   "cell_type": "code",
   "execution_count": null,
   "id": "7f4bd39a",
   "metadata": {},
   "outputs": [],
   "source": []
  },
  {
   "cell_type": "markdown",
   "id": "1ce38baa",
   "metadata": {},
   "source": [
    "Uppercase Conversion of List Elements\n",
    "Problem: Given a list of strings [\"apple\", \"banana\", \"cherry\"], use a loop to print each string in uppercase.\n",
    "Hint: Use the .upper() method on each string within the loop."
   ]
  },
  {
   "cell_type": "code",
   "execution_count": null,
   "id": "00cf2015",
   "metadata": {},
   "outputs": [],
   "source": []
  },
  {
   "cell_type": "markdown",
   "id": "197d7b37",
   "metadata": {},
   "source": [
    "Finding Minimum and Maximum in a List\n",
    "Problem: Write a program that finds and prints the minimum and maximum values from a list of integers.\n",
    "Hint: Use the built-in functions min() and max(), or loop through the list to compare elements."
   ]
  },
  {
   "cell_type": "code",
   "execution_count": null,
   "id": "e074511b",
   "metadata": {},
   "outputs": [],
   "source": []
  },
  {
   "cell_type": "markdown",
   "id": "e4a9c541",
   "metadata": {},
   "source": [
    "Creating and Importing a Module\n",
    "Problem: Create a module file named mymath.py containing a function square(n) that returns the square of n. Then import and test this function in another script.\n",
    "Hint: Write your function in one file and use the import statement in another file to call it."
   ]
  },
  {
   "cell_type": "code",
   "execution_count": null,
   "id": "7fbb87f0",
   "metadata": {},
   "outputs": [],
   "source": []
  },
  {
   "cell_type": "markdown",
   "id": "3c448a00",
   "metadata": {},
   "source": [
    "Global Variable Usage\n",
    "Problem: Write a program that demonstrates using a global variable inside a function.\n",
    "Hint: Declare a variable outside the function and use the global keyword within the function to modify it."
   ]
  },
  {
   "cell_type": "code",
   "execution_count": null,
   "id": "c88b86be",
   "metadata": {},
   "outputs": [],
   "source": []
  },
  {
   "cell_type": "markdown",
   "id": "9e384324",
   "metadata": {},
   "source": [
    "Nested Loops for Pattern Printing\n",
    "Problem: Write a program using nested loops to print a right-angled triangle of asterisks.\n",
    "Hint: Use one loop for rows and an inner loop to print the appropriate number of asterisks per row."
   ]
  },
  {
   "cell_type": "code",
   "execution_count": null,
   "id": "7ddbcb6d",
   "metadata": {},
   "outputs": [],
   "source": []
  },
  {
   "cell_type": "markdown",
   "id": "e701437d",
   "metadata": {},
   "source": [
    "Prime Number Checker\n",
    "Problem: Write a program that checks whether a given number is prime using a loop.\n",
    "Hint: Loop from 2 up to the square root of the number and check for divisibility."
   ]
  },
  {
   "cell_type": "code",
   "execution_count": null,
   "id": "fa6ecfcd",
   "metadata": {},
   "outputs": [],
   "source": []
  },
  {
   "cell_type": "markdown",
   "id": "dfe77886",
   "metadata": {},
   "source": [
    "Sum of Digits of a Number\n",
    "Problem: Write a program that calculates the sum of the digits of a number (e.g., 1234).\n",
    "Hint: Convert the number to a string and iterate over its characters or use modulo and integer division."
   ]
  },
  {
   "cell_type": "code",
   "execution_count": null,
   "id": "27baef71",
   "metadata": {},
   "outputs": [],
   "source": []
  },
  {
   "cell_type": "markdown",
   "id": "b3e836a4",
   "metadata": {},
   "source": [
    "Print Even Numbers from 1 to 50\n",
    "Problem: Write a program that prints all even numbers between 1 and 50 using a for loop.\n",
    "Hint: Use the modulo operator % to check if a number is even before printing it."
   ]
  },
  {
   "cell_type": "code",
   "execution_count": null,
   "id": "71c56b4d",
   "metadata": {},
   "outputs": [],
   "source": []
  },
  {
   "cell_type": "markdown",
   "id": "cece3494",
   "metadata": {},
   "source": [
    "Counting Words in a Sentence\n",
    "Problem: Write a program that asks the user for a sentence and prints the number of words it contains.\n",
    "Hint: Use the string method .split() to break the sentence into words."
   ]
  },
  {
   "cell_type": "code",
   "execution_count": null,
   "id": "4bd2ae7c",
   "metadata": {},
   "outputs": [],
   "source": []
  },
  {
   "cell_type": "markdown",
   "id": "5a337d50",
   "metadata": {},
   "source": [
    "Filtering a List by Threshold\n",
    "Problem: Given a list of numbers, create a new list containing only numbers greater than a specified threshold (for example, 10).\n",
    "Hint: Iterate over the list and use an if statement to add numbers meeting the condition to a new list."
   ]
  },
  {
   "cell_type": "code",
   "execution_count": null,
   "id": "83383274",
   "metadata": {},
   "outputs": [],
   "source": []
  },
  {
   "cell_type": "markdown",
   "id": "16016ec3",
   "metadata": {},
   "source": [
    "Simple Guessing Game\n",
    "Problem: Write a program that implements a simple guessing game where the user must guess a preset number (e.g., 7). Provide hints if the guess is too high or too low until the correct guess is made.\n",
    "Hint: Use a loop to repeatedly ask for input and if-else statements to compare the guess."
   ]
  },
  {
   "cell_type": "code",
   "execution_count": null,
   "id": "c9b57456",
   "metadata": {},
   "outputs": [],
   "source": []
  },
  {
   "cell_type": "markdown",
   "id": "5e4cf760",
   "metadata": {},
   "source": [
    "Menu-Driven Program with While Loop\n",
    "Problem: Write a program that displays a simple menu (e.g., option 1, option 2, exit) using a while loop, and performs actions based on user input until the user chooses to exit.\n",
    "Hint: Use an infinite loop with a break condition when the exit option is selected."
   ]
  },
  {
   "cell_type": "code",
   "execution_count": null,
   "id": "def2f7a7",
   "metadata": {},
   "outputs": [],
   "source": []
  },
  {
   "cell_type": "markdown",
   "id": "3f6f7a58",
   "metadata": {},
   "source": [
    "Sum of Odd Numbers\n",
    "Problem: Write a program that calculates and prints the sum of all odd numbers between 1 and 100.\n",
    "Hint: Iterate over the range, check if a number is odd (using % 2 != 0), and accumulate the sum."
   ]
  },
  {
   "cell_type": "code",
   "execution_count": null,
   "id": "7ef7c452",
   "metadata": {},
   "outputs": [],
   "source": []
  },
  {
   "cell_type": "markdown",
   "id": "6100f7e6",
   "metadata": {},
   "source": [
    "Loop with Break on Specific Condition\n",
    "Problem: Write a program that iterates over a list of numbers and uses the break statement to exit the loop when a specific condition is met (for example, when a number equals 0).\n",
    "Hint: Within the loop, check if the current number equals 0, and use break to stop further iterations."
   ]
  },
  {
   "cell_type": "code",
   "execution_count": null,
   "id": "b228d099",
   "metadata": {},
   "outputs": [],
   "source": []
  }
 ],
 "metadata": {
  "kernelspec": {
   "display_name": "Python 3 (ipykernel)",
   "language": "python",
   "name": "python3"
  },
  "language_info": {
   "codemirror_mode": {
    "name": "ipython",
    "version": 3
   },
   "file_extension": ".py",
   "mimetype": "text/x-python",
   "name": "python",
   "nbconvert_exporter": "python",
   "pygments_lexer": "ipython3",
   "version": "3.12.7"
  }
 },
 "nbformat": 4,
 "nbformat_minor": 5
}
